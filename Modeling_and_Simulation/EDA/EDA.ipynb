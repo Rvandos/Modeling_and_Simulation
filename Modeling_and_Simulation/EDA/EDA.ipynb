{
 "cells": [
  {
   "cell_type": "code",
   "execution_count": 69,
   "metadata": {},
   "outputs": [],
   "source": [
    "#Import required libraries\n",
    "import pandas as pd\n",
    "import sys\n",
    "from ydata_profiling import ProfileReport\n",
    "import os\n",
    "from flask import Flask, send_from_directory"
   ]
  },
  {
   "cell_type": "markdown",
   "metadata": {},
   "source": [
    "### Load data"
   ]
  },
  {
   "cell_type": "code",
   "execution_count": 70,
   "metadata": {},
   "outputs": [],
   "source": [
    "data_loc = os.path.abspath((os.path.join(os.getcwd(), '..', 'Data', 'Customer_Churn.csv')))\n",
    "df = pd.read_csv(data_loc)"
   ]
  },
  {
   "cell_type": "code",
   "execution_count": 71,
   "metadata": {},
   "outputs": [
    {
     "data": {
      "application/vnd.jupyter.widget-view+json": {
       "model_id": "78583c49d3c24e869e83004c427d0617",
       "version_major": 2,
       "version_minor": 0
      },
      "text/plain": [
       "Summarize dataset:   0%|          | 0/5 [00:00<?, ?it/s]"
      ]
     },
     "metadata": {},
     "output_type": "display_data"
    },
    {
     "data": {
      "application/vnd.jupyter.widget-view+json": {
       "model_id": "894122cfcff74f87bf7f018de13ea0a1",
       "version_major": 2,
       "version_minor": 0
      },
      "text/plain": [
       "Generate report structure:   0%|          | 0/1 [00:00<?, ?it/s]"
      ]
     },
     "metadata": {},
     "output_type": "display_data"
    },
    {
     "data": {
      "application/vnd.jupyter.widget-view+json": {
       "model_id": "10dd963120ce4fa6b0a834966b477af6",
       "version_major": 2,
       "version_minor": 0
      },
      "text/plain": [
       "Render HTML:   0%|          | 0/1 [00:00<?, ?it/s]"
      ]
     },
     "metadata": {},
     "output_type": "display_data"
    },
    {
     "data": {
      "application/vnd.jupyter.widget-view+json": {
       "model_id": "d689058765064b05bb218d0b48c0fd8b",
       "version_major": 2,
       "version_minor": 0
      },
      "text/plain": [
       "Export report to file:   0%|          | 0/1 [00:00<?, ?it/s]"
      ]
     },
     "metadata": {},
     "output_type": "display_data"
    }
   ],
   "source": [
    "#Create profiling report\n",
    "profile = ProfileReport(df, title = 'Churn Dataset EDA')\n",
    "report_file = 'eda_report.html'\n",
    "profile.to_file(report_file)"
   ]
  },
  {
   "cell_type": "markdown",
   "metadata": {},
   "source": [
    "### Open the EDA html report on a local server"
   ]
  },
  {
   "cell_type": "code",
   "execution_count": 72,
   "metadata": {},
   "outputs": [
    {
     "name": "stdout",
     "output_type": "stream",
     "text": [
      " * Serving Flask app '__main__'\n",
      " * Debug mode: off\n"
     ]
    },
    {
     "name": "stderr",
     "output_type": "stream",
     "text": [
      "WARNING: This is a development server. Do not use it in a production deployment. Use a production WSGI server instead.\n",
      " * Running on http://127.0.0.1:5000\n",
      "Press CTRL+C to quit\n",
      "127.0.0.1 - - [01/Mar/2024 11:16:10] \"GET / HTTP/1.1\" 200 -\n"
     ]
    }
   ],
   "source": [
    "#open the link that appears after running this cell!\n",
    "app = Flask(__name__)\n",
    "html_directory = os.getcwd()\n",
    "@app.route('/')\n",
    "def serve_html():\n",
    "    # Specify the name of your HTML file\n",
    "    html_file = 'eda_report.html'\n",
    "    return send_from_directory(html_directory, html_file)\n",
    "\n",
    "app.run(port=5000)"
   ]
  },
  {
   "cell_type": "markdown",
   "metadata": {},
   "source": [
    "#### The following insights are derived from the EDA:\n",
    "\n",
    "- The variable _Age_ and _Age Group_ are perfectly correlated. Hence, only one of them should be included!\n",
    "- The _Seconds of Use_ and _Frequency of Use_, respectively the total seconds of calls and total number of calls, are highly correlated. \n",
    "Therefore, consider models with both features, one of them, or create a new variable reflecting the average seconds per call (be aware of the 154 people with 0 calls).\n",
    "- The dependent variable (_Churn_) is very unbalanced, 84% does not churn. Consider balancing the dataset for training.\n",
    "- The correlation between _Subscription Length_ and _Churn_ is very low (-0.035), consider excluding this variable as a feature! Also low correlation with other features.\n",
    "- The _Complains_ variable and _Status_ variables have the highest positive correlation with the variable _Churn_. Note, for interpretation, that status = {1: active, 2: non-active}, therefore the positive correlation implies that being non-active is more associated with churning.\n",
    "- The _Status_ variable has positive correlation with the frequency/use related features. Check if it still seems relevant.\n",
    "- People with higher payment plans have more call failures (+ correlation between _Call Failure_ and _Charge Amount_). Likely, because they report more?!"
   ]
  }
 ],
 "metadata": {
  "kernelspec": {
   "display_name": "modeling_and_simulation",
   "language": "python",
   "name": "python3"
  },
  "language_info": {
   "codemirror_mode": {
    "name": "ipython",
    "version": 3
   },
   "file_extension": ".py",
   "mimetype": "text/x-python",
   "name": "python",
   "nbconvert_exporter": "python",
   "pygments_lexer": "ipython3",
   "version": "3.9.18"
  }
 },
 "nbformat": 4,
 "nbformat_minor": 2
}

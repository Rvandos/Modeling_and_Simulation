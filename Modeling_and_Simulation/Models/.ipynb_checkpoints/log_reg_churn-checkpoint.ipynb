{
 "cells": [
  {
   "cell_type": "code",
   "execution_count": 2,
   "id": "8a181783",
   "metadata": {},
   "outputs": [],
   "source": [
    "import pandas as pd\n",
    "import numpy as np\n",
    "from sklearn.model_selection import train_test_split\n",
    "from sklearn.linear_model import LogisticRegression\n",
    "from sklearn.pipeline import make_pipeline\n",
    "from sklearn.preprocessing import StandardScaler\n",
    "\n",
    "# objective: train the churn dataset on a logistic regression model, with default param settings, balanced class weight,\n",
    "# param includes use only features with coefficient > certain threshold, test size in train-test split\n",
    "# also including specifying random state just in case\n",
    "# the function returns: the model, the high coefficent features, and their coefficient\n",
    "def log_reg_churn(dataset, coef_threshold, test_size, random_state):\n",
    "    # split train test dataset\n",
    "    X_train, X_test, y_train, y_test = train_test_split(dataset.iloc[:,:-1], dataset.iloc[:,-1], test_size=test_size, random_state=random_state)\n",
    "    \n",
    "    # initiate and train a logreg model with balanced class weight\n",
    "    clf = LogisticRegression(class_weight='balanced', random_state=random_state).fit(X_train, y_train)\n",
    "    \n",
    "    # use features with coefficient > coef_threshold\n",
    "    df_features = pd.DataFrame()\n",
    "    df_features['Feature'] = clf.feature_names_in_\n",
    "    df_features['Coefficient'] = abs(clf.coef_[0])\n",
    "    df_features = df_features.sort_values(by=['Coefficient'], ascending=False)\n",
    "    df_features = df_features.reset_index()\n",
    "    high_coef_features = df_features[abs(df_features['Coefficient']) > coef_threshold]['Feature']\n",
    "    high_coef = df_features[abs(df_features['Coefficient']) > coef_threshold]['Coefficient']\n",
    "    \n",
    "    # retrain the model with only features with coefficient > coef_threshold\n",
    "    clf_high_coef_features = LogisticRegression(class_weight='balanced', random_state=random_state).fit(X_train[high_coef_features], y_train)\n",
    "    \n",
    "    return clf_high_coef_features, high_coef_features, high_coef"
   ]
  }
 ],
 "metadata": {
  "kernelspec": {
   "display_name": "Python 3 (ipykernel)",
   "language": "python",
   "name": "python3"
  },
  "language_info": {
   "codemirror_mode": {
    "name": "ipython",
    "version": 3
   },
   "file_extension": ".py",
   "mimetype": "text/x-python",
   "name": "python",
   "nbconvert_exporter": "python",
   "pygments_lexer": "ipython3",
   "version": "3.11.5"
  }
 },
 "nbformat": 4,
 "nbformat_minor": 5
}

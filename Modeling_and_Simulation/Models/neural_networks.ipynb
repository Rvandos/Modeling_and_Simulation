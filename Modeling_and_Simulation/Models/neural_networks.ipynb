{
 "cells": [
  {
   "cell_type": "code",
   "execution_count": 1,
   "id": "830068c8",
   "metadata": {},
   "outputs": [
    {
     "name": "stdout",
     "output_type": "stream",
     "text": [
      "WARNING:tensorflow:From C:\\Users\\20236196\\AppData\\Local\\anaconda3\\Lib\\site-packages\\keras\\src\\losses.py:2976: The name tf.losses.sparse_softmax_cross_entropy is deprecated. Please use tf.compat.v1.losses.sparse_softmax_cross_entropy instead.\n",
      "\n"
     ]
    }
   ],
   "source": [
    "import pandas as pd\n",
    "import numpy as np\n",
    "import matplotlib.pyplot as plt\n",
    "import seaborn as sns\n",
    "from sklearn.utils import resample\n",
    "from sklearn.model_selection import train_test_split\n",
    "from sklearn.preprocessing import StandardScaler\n",
    "from sklearn.metrics import accuracy_score\n",
    "import tensorflow as tf\n",
    "from tensorflow import keras\n",
    "from tensorflow.keras import Sequential\n",
    "from tensorflow.keras.layers import Dense\n",
    "from sklearn.metrics import confusion_matrix, classification_report"
   ]
  },
  {
   "cell_type": "markdown",
   "id": "66fa72be",
   "metadata": {},
   "source": [
    "### Dataset - Iraninan Customer Churn"
   ]
  },
  {
   "cell_type": "code",
   "execution_count": 2,
   "id": "1585063b",
   "metadata": {},
   "outputs": [],
   "source": [
    "df = pd.read_csv(r'C:\\Users\\20236196\\Desktop\\Modules\\Modelling & Simulation\\Customer Churn.csv')"
   ]
  },
  {
   "cell_type": "code",
   "execution_count": 3,
   "id": "e11f469b",
   "metadata": {
    "scrolled": true
   },
   "outputs": [
    {
     "data": {
      "text/html": [
       "<div>\n",
       "<style scoped>\n",
       "    .dataframe tbody tr th:only-of-type {\n",
       "        vertical-align: middle;\n",
       "    }\n",
       "\n",
       "    .dataframe tbody tr th {\n",
       "        vertical-align: top;\n",
       "    }\n",
       "\n",
       "    .dataframe thead th {\n",
       "        text-align: right;\n",
       "    }\n",
       "</style>\n",
       "<table border=\"1\" class=\"dataframe\">\n",
       "  <thead>\n",
       "    <tr style=\"text-align: right;\">\n",
       "      <th></th>\n",
       "      <th>Call  Failure</th>\n",
       "      <th>Complains</th>\n",
       "      <th>Subscription  Length</th>\n",
       "      <th>Charge  Amount</th>\n",
       "      <th>Seconds of Use</th>\n",
       "      <th>Frequency of use</th>\n",
       "      <th>Frequency of SMS</th>\n",
       "      <th>Distinct Called Numbers</th>\n",
       "      <th>Age Group</th>\n",
       "      <th>Tariff Plan</th>\n",
       "      <th>Status</th>\n",
       "      <th>Age</th>\n",
       "      <th>Customer Value</th>\n",
       "      <th>Churn</th>\n",
       "    </tr>\n",
       "  </thead>\n",
       "  <tbody>\n",
       "    <tr>\n",
       "      <th>0</th>\n",
       "      <td>8</td>\n",
       "      <td>0</td>\n",
       "      <td>38</td>\n",
       "      <td>0</td>\n",
       "      <td>4370</td>\n",
       "      <td>71</td>\n",
       "      <td>5</td>\n",
       "      <td>17</td>\n",
       "      <td>3</td>\n",
       "      <td>1</td>\n",
       "      <td>1</td>\n",
       "      <td>30</td>\n",
       "      <td>197.640</td>\n",
       "      <td>0</td>\n",
       "    </tr>\n",
       "    <tr>\n",
       "      <th>1</th>\n",
       "      <td>0</td>\n",
       "      <td>0</td>\n",
       "      <td>39</td>\n",
       "      <td>0</td>\n",
       "      <td>318</td>\n",
       "      <td>5</td>\n",
       "      <td>7</td>\n",
       "      <td>4</td>\n",
       "      <td>2</td>\n",
       "      <td>1</td>\n",
       "      <td>2</td>\n",
       "      <td>25</td>\n",
       "      <td>46.035</td>\n",
       "      <td>0</td>\n",
       "    </tr>\n",
       "    <tr>\n",
       "      <th>2</th>\n",
       "      <td>10</td>\n",
       "      <td>0</td>\n",
       "      <td>37</td>\n",
       "      <td>0</td>\n",
       "      <td>2453</td>\n",
       "      <td>60</td>\n",
       "      <td>359</td>\n",
       "      <td>24</td>\n",
       "      <td>3</td>\n",
       "      <td>1</td>\n",
       "      <td>1</td>\n",
       "      <td>30</td>\n",
       "      <td>1536.520</td>\n",
       "      <td>0</td>\n",
       "    </tr>\n",
       "    <tr>\n",
       "      <th>3</th>\n",
       "      <td>10</td>\n",
       "      <td>0</td>\n",
       "      <td>38</td>\n",
       "      <td>0</td>\n",
       "      <td>4198</td>\n",
       "      <td>66</td>\n",
       "      <td>1</td>\n",
       "      <td>35</td>\n",
       "      <td>1</td>\n",
       "      <td>1</td>\n",
       "      <td>1</td>\n",
       "      <td>15</td>\n",
       "      <td>240.020</td>\n",
       "      <td>0</td>\n",
       "    </tr>\n",
       "    <tr>\n",
       "      <th>4</th>\n",
       "      <td>3</td>\n",
       "      <td>0</td>\n",
       "      <td>38</td>\n",
       "      <td>0</td>\n",
       "      <td>2393</td>\n",
       "      <td>58</td>\n",
       "      <td>2</td>\n",
       "      <td>33</td>\n",
       "      <td>1</td>\n",
       "      <td>1</td>\n",
       "      <td>1</td>\n",
       "      <td>15</td>\n",
       "      <td>145.805</td>\n",
       "      <td>0</td>\n",
       "    </tr>\n",
       "  </tbody>\n",
       "</table>\n",
       "</div>"
      ],
      "text/plain": [
       "   Call  Failure  Complains  Subscription  Length  Charge  Amount  \\\n",
       "0              8          0                    38               0   \n",
       "1              0          0                    39               0   \n",
       "2             10          0                    37               0   \n",
       "3             10          0                    38               0   \n",
       "4              3          0                    38               0   \n",
       "\n",
       "   Seconds of Use  Frequency of use  Frequency of SMS  \\\n",
       "0            4370                71                 5   \n",
       "1             318                 5                 7   \n",
       "2            2453                60               359   \n",
       "3            4198                66                 1   \n",
       "4            2393                58                 2   \n",
       "\n",
       "   Distinct Called Numbers  Age Group  Tariff Plan  Status  Age  \\\n",
       "0                       17          3            1       1   30   \n",
       "1                        4          2            1       2   25   \n",
       "2                       24          3            1       1   30   \n",
       "3                       35          1            1       1   15   \n",
       "4                       33          1            1       1   15   \n",
       "\n",
       "   Customer Value  Churn  \n",
       "0         197.640      0  \n",
       "1          46.035      0  \n",
       "2        1536.520      0  \n",
       "3         240.020      0  \n",
       "4         145.805      0  "
      ]
     },
     "execution_count": 3,
     "metadata": {},
     "output_type": "execute_result"
    }
   ],
   "source": [
    "df.head()"
   ]
  },
  {
   "cell_type": "code",
   "execution_count": 4,
   "id": "1431f796",
   "metadata": {},
   "outputs": [
    {
     "name": "stdout",
     "output_type": "stream",
     "text": [
      "<class 'pandas.core.frame.DataFrame'>\n",
      "RangeIndex: 3150 entries, 0 to 3149\n",
      "Data columns (total 14 columns):\n",
      " #   Column                   Non-Null Count  Dtype  \n",
      "---  ------                   --------------  -----  \n",
      " 0   Call  Failure            3150 non-null   int64  \n",
      " 1   Complains                3150 non-null   int64  \n",
      " 2   Subscription  Length     3150 non-null   int64  \n",
      " 3   Charge  Amount           3150 non-null   int64  \n",
      " 4   Seconds of Use           3150 non-null   int64  \n",
      " 5   Frequency of use         3150 non-null   int64  \n",
      " 6   Frequency of SMS         3150 non-null   int64  \n",
      " 7   Distinct Called Numbers  3150 non-null   int64  \n",
      " 8   Age Group                3150 non-null   int64  \n",
      " 9   Tariff Plan              3150 non-null   int64  \n",
      " 10  Status                   3150 non-null   int64  \n",
      " 11  Age                      3150 non-null   int64  \n",
      " 12  Customer Value           3150 non-null   float64\n",
      " 13  Churn                    3150 non-null   int64  \n",
      "dtypes: float64(1), int64(13)\n",
      "memory usage: 344.7 KB\n"
     ]
    }
   ],
   "source": [
    "df.info()"
   ]
  },
  {
   "cell_type": "markdown",
   "id": "c0499b9a",
   "metadata": {},
   "source": [
    "Anonymous Customer ID\n",
    "\n",
    "Call Failures: number of call failures\n",
    "\n",
    "Complains: binary (0: No complaint, 1: complaint)\n",
    "\n",
    "Subscription Length: total months of subscription \n",
    "\n",
    "Charge Amount: Ordinal attribute (0: lowest amount, 9: highest amount)\n",
    "\n",
    "Seconds of Use: total seconds of calls\n",
    "\n",
    "Frequency of use: total number of calls\n",
    "\n",
    "Frequency of SMS: total number of text messages\n",
    "\n",
    "Distinct Called Numbers: total number of distinct phone calls \n",
    "\n",
    "Age Group: ordinal attribute (1: younger age, 5: older age)\n",
    "\n",
    "Tariff Plan: binary (1: Pay as you go, 2: contractual)\n",
    "\n",
    "Status: binary (1: active, 2: non-active)\n",
    "\n",
    "Churn: binary (1: churn, 0: non-churn) - Class label\n",
    "\n",
    "Customer Value: The calculated value of customer"
   ]
  },
  {
   "cell_type": "code",
   "execution_count": 5,
   "id": "da3aeb5f",
   "metadata": {},
   "outputs": [
    {
     "data": {
      "text/plain": [
       "Call  Failure              0\n",
       "Complains                  0\n",
       "Subscription  Length       0\n",
       "Charge  Amount             0\n",
       "Seconds of Use             0\n",
       "Frequency of use           0\n",
       "Frequency of SMS           0\n",
       "Distinct Called Numbers    0\n",
       "Age Group                  0\n",
       "Tariff Plan                0\n",
       "Status                     0\n",
       "Age                        0\n",
       "Customer Value             0\n",
       "Churn                      0\n",
       "dtype: int64"
      ]
     },
     "execution_count": 5,
     "metadata": {},
     "output_type": "execute_result"
    }
   ],
   "source": [
    "df.isnull().sum()"
   ]
  },
  {
   "cell_type": "markdown",
   "id": "f5761251",
   "metadata": {},
   "source": [
    "### EDA"
   ]
  },
  {
   "cell_type": "markdown",
   "id": "a42f2bd6",
   "metadata": {},
   "source": [
    "#### Churn Count"
   ]
  },
  {
   "cell_type": "code",
   "execution_count": 6,
   "id": "263084b0",
   "metadata": {},
   "outputs": [
    {
     "data": {
      "text/plain": [
       "Churn\n",
       "0    2655\n",
       "1     495\n",
       "Name: count, dtype: int64"
      ]
     },
     "execution_count": 6,
     "metadata": {},
     "output_type": "execute_result"
    }
   ],
   "source": [
    "#Churn count\n",
    "df['Churn'].value_counts()"
   ]
  },
  {
   "cell_type": "markdown",
   "id": "b065b4dd",
   "metadata": {},
   "source": [
    "#### Call Failures"
   ]
  },
  {
   "cell_type": "code",
   "execution_count": 7,
   "id": "1e118357",
   "metadata": {},
   "outputs": [
    {
     "data": {
      "image/png": "[encoded data removed]",
      "text/plain": [
       "<Figure size 1000x600 with 1 Axes>"
      ]
     },
     "metadata": {},
     "output_type": "display_data"
    }
   ],
   "source": [
    "plt.figure(figsize=(10, 6))\n",
    "sns.countplot(x='Call  Failure', hue='Churn', data=df)\n",
    "plt.xlabel('Call Failure')\n",
    "plt.ylabel('Count')\n",
    "plt.title('Churn Counts by Call Failure')\n",
    "plt.show()"
   ]
  },
  {
   "cell_type": "markdown",
   "id": "de998c50",
   "metadata": {},
   "source": [
    "#CALLZ"
   ]
  },
  {
   "cell_type": "markdown",
   "id": "7e4d61fc",
   "metadata": {},
   "source": [
    "#### Complaints (0 - No complains, 1 - Complains)"
   ]
  },
  {
   "cell_type": "code",
   "execution_count": 8,
   "id": "a4c3e945",
   "metadata": {},
   "outputs": [
    {
     "data": {
      "text/plain": [
       "Complains  Churn\n",
       "0          0        0.898591\n",
       "           1        0.101409\n",
       "1          1        0.829876\n",
       "           0        0.170124\n",
       "Name: proportion, dtype: float64"
      ]
     },
     "execution_count": 8,
     "metadata": {},
     "output_type": "execute_result"
    }
   ],
   "source": [
    "df.groupby('Complains')['Churn'].value_counts(normalize=True)"
   ]
  },
  {
   "cell_type": "markdown",
   "id": "5d6ec611",
   "metadata": {},
   "source": [
    "#Complaining is as good as churning!"
   ]
  },
  {
   "cell_type": "markdown",
   "id": "467e0aa2",
   "metadata": {},
   "source": [
    "#### Subscription Length"
   ]
  },
  {
   "cell_type": "code",
   "execution_count": 30,
   "id": "2790b78a",
   "metadata": {},
   "outputs": [
    {
     "data": {
      "image/png": "[encoded data removed]",
      "text/plain": [
       "<Figure size 1000x600 with 1 Axes>"
      ]
     },
     "metadata": {},
     "output_type": "display_data"
    }
   ],
   "source": [
    "plt.figure(figsize=(10, 6))\n",
    "sns.countplot(x='Subscription  Length', hue='Churn', data=df)\n",
    "plt.xlabel('Subscription Length (Months)')\n",
    "plt.ylabel('Count')\n",
    "plt.title('Churn Counts by Subscription Length')\n",
    "plt.show()"
   ]
  },
  {
   "cell_type": "code",
   "execution_count": 10,
   "id": "fad21109",
   "metadata": {},
   "outputs": [
    {
     "data": {
      "text/plain": [
       "Subscription  Length  Churn\n",
       "3                     0        0.500000\n",
       "                      1        0.500000\n",
       "4                     0        0.500000\n",
       "                      1        0.500000\n",
       "5                     0        0.500000\n",
       "                                 ...   \n",
       "44                    1        0.090909\n",
       "45                    0        0.956522\n",
       "                      1        0.043478\n",
       "46                    0        1.000000\n",
       "47                    0        1.000000\n",
       "Name: proportion, Length: 82, dtype: float64"
      ]
     },
     "execution_count": 10,
     "metadata": {},
     "output_type": "execute_result"
    }
   ],
   "source": [
    "df.groupby('Subscription  Length')['Churn'].value_counts(normalize=True)"
   ]
  },
  {
   "cell_type": "markdown",
   "id": "a497318c",
   "metadata": {},
   "source": [
    "#The higher churning occurs in the first 6 months of subscription lenght, about 50% of churning."
   ]
  },
  {
   "cell_type": "code",
   "execution_count": 31,
   "id": "80d3380a",
   "metadata": {},
   "outputs": [
    {
     "data": {
      "image/png": "[encoded data removed]",
      "text/plain": [
       "<Figure size 1000x600 with 1 Axes>"
      ]
     },
     "metadata": {},
     "output_type": "display_data"
    }
   ],
   "source": [
    "filtered_df = df[df['Subscription  Length'] <= 12]\n",
    "\n",
    "plt.figure(figsize=(10, 6))\n",
    "\n",
    "sns.countplot(x='Subscription  Length', hue='Churn', data=filtered_df)\n",
    "\n",
    "# Set plot labels and title\n",
    "plt.xlabel('Subscription Length (Months)')\n",
    "plt.ylabel('Count')\n",
    "plt.title('Churn Counts for Subscription Lengths up to 1 Year')\n",
    "\n",
    "# Show the plot\n",
    "plt.show()"
   ]
  },
  {
   "cell_type": "markdown",
   "id": "2d303c40",
   "metadata": {},
   "source": [
    "#### Charge Amount (0 - lowest charge, 9 - highest charge) "
   ]
  },
  {
   "cell_type": "code",
   "execution_count": 32,
   "id": "4e4f65c5",
   "metadata": {},
   "outputs": [
    {
     "data": {
      "image/png": "[encoded data removed]",
      "text/plain": [
       "<Figure size 1000x600 with 1 Axes>"
      ]
     },
     "metadata": {},
     "output_type": "display_data"
    }
   ],
   "source": [
    "plt.figure(figsize=(10, 6))\n",
    "sns.countplot(x='Charge  Amount', hue='Churn', data=df)\n",
    "plt.xlabel('Charge Amount')\n",
    "plt.ylabel('Count')\n",
    "plt.title('Churn Counts by Charge Amount')\n",
    "plt.show()"
   ]
  },
  {
   "cell_type": "markdown",
   "id": "e695746b",
   "metadata": {},
   "source": [
    "#Charge amount doesn't seem to influence much churning"
   ]
  },
  {
   "cell_type": "markdown",
   "id": "1a3c4b3c",
   "metadata": {},
   "source": [
    "#### Frequency of use (total number of calls)"
   ]
  },
  {
   "cell_type": "code",
   "execution_count": 13,
   "id": "fb8878d2",
   "metadata": {},
   "outputs": [
    {
     "data": {
      "text/plain": [
       "Frequency of use  Churn\n",
       "0                 1        0.525974\n",
       "                  0        0.474026\n",
       "1                 1        0.777778\n",
       "                  0        0.222222\n",
       "2                 1        0.600000\n",
       "                             ...   \n",
       "249               0        1.000000\n",
       "250               0        1.000000\n",
       "252               0        1.000000\n",
       "254               0        1.000000\n",
       "255               0        1.000000\n",
       "Name: proportion, Length: 324, dtype: float64"
      ]
     },
     "execution_count": 13,
     "metadata": {},
     "output_type": "execute_result"
    }
   ],
   "source": [
    "df.groupby('Frequency of use')['Churn'].value_counts(normalize=True)"
   ]
  },
  {
   "cell_type": "markdown",
   "id": "32eefc6b",
   "metadata": {},
   "source": [
    "#### Age group (1 - 5)"
   ]
  },
  {
   "cell_type": "code",
   "execution_count": 14,
   "id": "fb815a5e",
   "metadata": {},
   "outputs": [
    {
     "data": {
      "text/plain": [
       "Age Group  Churn\n",
       "1          0        1.000000\n",
       "2          0        0.822565\n",
       "           1        0.177435\n",
       "3          0        0.838596\n",
       "           1        0.161404\n",
       "4          0        0.800000\n",
       "           1        0.200000\n",
       "5          0        0.988235\n",
       "           1        0.011765\n",
       "Name: proportion, dtype: float64"
      ]
     },
     "execution_count": 14,
     "metadata": {},
     "output_type": "execute_result"
    }
   ],
   "source": [
    "df.groupby('Age Group')['Churn'].value_counts(normalize=True)"
   ]
  },
  {
   "cell_type": "markdown",
   "id": "02af3cc0",
   "metadata": {},
   "source": [
    "The age group that presents the higher churning is the 4th"
   ]
  },
  {
   "cell_type": "markdown",
   "id": "e0021f96",
   "metadata": {},
   "source": []
  },
  {
   "cell_type": "markdown",
   "id": "04a2fca3",
   "metadata": {},
   "source": [
    "### Neural Networks Model"
   ]
  },
  {
   "cell_type": "code",
   "execution_count": 33,
   "id": "6996bcf4",
   "metadata": {},
   "outputs": [
    {
     "name": "stdout",
     "output_type": "stream",
     "text": [
      "Churn\n",
      "0    2655\n",
      "1     495\n",
      "Name: count, dtype: int64\n"
     ]
    },
    {
     "data": {
      "image/png": "[encoded data removed]",
      "text/plain": [
       "<Figure size 1000x600 with 1 Axes>"
      ]
     },
     "metadata": {},
     "output_type": "display_data"
    }
   ],
   "source": [
    "#Checking value counts of churn data\n",
    "plt.figure(figsize=(10, 6))\n",
    "sns.countplot(x='Churn',data=df)\n",
    "print(df['Churn'].value_counts())"
   ]
  },
  {
   "cell_type": "code",
   "execution_count": 16,
   "id": "702146b6",
   "metadata": {},
   "outputs": [],
   "source": [
    "#Balancing the data\n",
    "majority_class = df[df['Churn'] == 0]\n",
    "minority_class = df[df['Churn'] == 1]\n",
    "\n",
    "upsampled_minority = resample(minority_class,\n",
    "                              replace=True,  \n",
    "                              n_samples=len(majority_class), \n",
    "                              random_state=42)  \n",
    "\n",
    "balanced_data = pd.concat([majority_class, upsampled_minority])"
   ]
  },
  {
   "cell_type": "code",
   "execution_count": 34,
   "id": "673b4f48",
   "metadata": {},
   "outputs": [
    {
     "name": "stdout",
     "output_type": "stream",
     "text": [
      "Churn\n",
      "0    2655\n",
      "1    2655\n",
      "Name: count, dtype: int64\n"
     ]
    },
    {
     "data": {
      "image/png": "[encoded data removed]",
      "text/plain": [
       "<Figure size 1000x600 with 1 Axes>"
      ]
     },
     "metadata": {},
     "output_type": "display_data"
    }
   ],
   "source": [
    "#Checking Balanced Data\n",
    "plt.figure(figsize=(10, 6))\n",
    "sns.countplot(x='Churn',data=balanced_data)\n",
    "print(balanced_data['Churn'].value_counts())"
   ]
  },
  {
   "cell_type": "code",
   "execution_count": 18,
   "id": "2f075468",
   "metadata": {},
   "outputs": [],
   "source": [
    "#Spliting indenpendent variable (y) from dependent variables (x)\n",
    "X = balanced_data.drop('Churn',axis=1)\n",
    "y = balanced_data['Churn']"
   ]
  },
  {
   "cell_type": "code",
   "execution_count": 19,
   "id": "968dc2a1",
   "metadata": {},
   "outputs": [
    {
     "name": "stdout",
     "output_type": "stream",
     "text": [
      "X_train Shape :  (4248, 13)\n",
      "X_test Shape :  (1062, 13)\n",
      "y_train Shape :  (4248,)\n",
      "y_test Shape :  (1062,)\n"
     ]
    }
   ],
   "source": [
    "#Train-test Split\n",
    "X_train, X_test, y_train, y_test = train_test_split(X, y, test_size = 0.2, random_state = 42)\n",
    "print(\"X_train Shape : \", X_train.shape)\n",
    "print(\"X_test Shape : \", X_test.shape)\n",
    "print(\"y_train Shape : \", y_train.shape)\n",
    "print(\"y_test Shape : \", y_test.shape)"
   ]
  },
  {
   "cell_type": "code",
   "execution_count": 20,
   "id": "7c41546b",
   "metadata": {},
   "outputs": [],
   "source": [
    "#Feature Scaling - standardizes the range of input features\n",
    "scaler = StandardScaler()\n",
    "X_train_scaled = scaler.fit_transform(X_train)\n",
    "X_test_scaled = scaler.transform(X_test)"
   ]
  },
  {
   "cell_type": "code",
   "execution_count": 21,
   "id": "cf5165e0",
   "metadata": {},
   "outputs": [
    {
     "name": "stdout",
     "output_type": "stream",
     "text": [
      "WARNING:tensorflow:From C:\\Users\\20236196\\AppData\\Local\\anaconda3\\Lib\\site-packages\\keras\\src\\backend.py:873: The name tf.get_default_graph is deprecated. Please use tf.compat.v1.get_default_graph instead.\n",
      "\n"
     ]
    }
   ],
   "source": [
    "#Build NN Model\n",
    "model = Sequential()\n",
    "model.add(Dense(13, activation='relu', input_dim = 13))\n",
    "model.add(Dense(13, activation='relu'))\n",
    "model.add(Dense(1, activation='sigmoid'))"
   ]
  },
  {
   "cell_type": "code",
   "execution_count": 22,
   "id": "072b40ac",
   "metadata": {},
   "outputs": [
    {
     "name": "stdout",
     "output_type": "stream",
     "text": [
      "Model: \"sequential\"\n",
      "_________________________________________________________________\n",
      " Layer (type)                Output Shape              Param #   \n",
      "=================================================================\n",
      " dense (Dense)               (None, 13)                182       \n",
      "                                                                 \n",
      " dense_1 (Dense)             (None, 13)                182       \n",
      "                                                                 \n",
      " dense_2 (Dense)             (None, 1)                 14        \n",
      "                                                                 \n",
      "=================================================================\n",
      "Total params: 378 (1.48 KB)\n",
      "Trainable params: 378 (1.48 KB)\n",
      "Non-trainable params: 0 (0.00 Byte)\n",
      "_________________________________________________________________\n"
     ]
    }
   ],
   "source": [
    "model.summary()"
   ]
  },
  {
   "cell_type": "code",
   "execution_count": 23,
   "id": "0fc1b5e3",
   "metadata": {},
   "outputs": [
    {
     "name": "stdout",
     "output_type": "stream",
     "text": [
      "WARNING:tensorflow:From C:\\Users\\20236196\\AppData\\Local\\anaconda3\\Lib\\site-packages\\keras\\src\\optimizers\\__init__.py:309: The name tf.train.Optimizer is deprecated. Please use tf.compat.v1.train.Optimizer instead.\n",
      "\n",
      "Epoch 1/100\n",
      "WARNING:tensorflow:From C:\\Users\\20236196\\AppData\\Local\\anaconda3\\Lib\\site-packages\\keras\\src\\utils\\tf_utils.py:492: The name tf.ragged.RaggedTensorValue is deprecated. Please use tf.compat.v1.ragged.RaggedTensorValue instead.\n",
      "\n",
      "WARNING:tensorflow:From C:\\Users\\20236196\\AppData\\Local\\anaconda3\\Lib\\site-packages\\keras\\src\\engine\\base_layer_utils.py:384: The name tf.executing_eagerly_outside_functions is deprecated. Please use tf.compat.v1.executing_eagerly_outside_functions instead.\n",
      "\n",
      "107/107 [==============================] - 1s 2ms/step - loss: 0.6396 - accuracy: 0.6775 - val_loss: 0.5166 - val_accuracy: 0.8459\n",
      "Epoch 2/100\n",
      "107/107 [==============================] - 0s 1ms/step - loss: 0.4336 - accuracy: 0.8461 - val_loss: 0.3435 - val_accuracy: 0.8788\n",
      "Epoch 3/100\n",
      "107/107 [==============================] - 0s 1ms/step - loss: 0.3308 - accuracy: 0.8667 - val_loss: 0.2912 - val_accuracy: 0.8871\n",
      "Epoch 4/100\n",
      "107/107 [==============================] - 0s 1ms/step - loss: 0.2997 - accuracy: 0.8746 - val_loss: 0.2734 - val_accuracy: 0.8894\n",
      "Epoch 5/100\n",
      "107/107 [==============================] - 0s 1ms/step - loss: 0.2856 - accuracy: 0.8773 - val_loss: 0.2638 - val_accuracy: 0.8906\n",
      "Epoch 6/100\n",
      "107/107 [==============================] - 0s 1ms/step - loss: 0.2749 - accuracy: 0.8773 - val_loss: 0.2550 - val_accuracy: 0.8929\n",
      "Epoch 7/100\n",
      "107/107 [==============================] - 0s 1ms/step - loss: 0.2677 - accuracy: 0.8808 - val_loss: 0.2490 - val_accuracy: 0.8941\n",
      "Epoch 8/100\n",
      "107/107 [==============================] - 0s 1ms/step - loss: 0.2599 - accuracy: 0.8838 - val_loss: 0.2420 - val_accuracy: 0.8882\n",
      "Epoch 9/100\n",
      "107/107 [==============================] - 0s 1ms/step - loss: 0.2521 - accuracy: 0.8899 - val_loss: 0.2364 - val_accuracy: 0.8894\n",
      "Epoch 10/100\n",
      "107/107 [==============================] - 0s 1ms/step - loss: 0.2443 - accuracy: 0.8920 - val_loss: 0.2285 - val_accuracy: 0.8976\n",
      "Epoch 11/100\n",
      "107/107 [==============================] - 0s 1ms/step - loss: 0.2357 - accuracy: 0.8955 - val_loss: 0.2243 - val_accuracy: 0.9059\n",
      "Epoch 12/100\n",
      "107/107 [==============================] - 0s 1ms/step - loss: 0.2282 - accuracy: 0.9032 - val_loss: 0.2148 - val_accuracy: 0.9082\n",
      "Epoch 13/100\n",
      "107/107 [==============================] - 0s 1ms/step - loss: 0.2202 - accuracy: 0.9055 - val_loss: 0.2107 - val_accuracy: 0.9094\n",
      "Epoch 14/100\n",
      "107/107 [==============================] - 0s 1ms/step - loss: 0.2143 - accuracy: 0.9058 - val_loss: 0.2041 - val_accuracy: 0.9141\n",
      "Epoch 15/100\n",
      "107/107 [==============================] - 0s 1ms/step - loss: 0.2077 - accuracy: 0.9108 - val_loss: 0.1998 - val_accuracy: 0.9259\n",
      "Epoch 16/100\n",
      "107/107 [==============================] - 0s 1ms/step - loss: 0.1999 - accuracy: 0.9173 - val_loss: 0.1961 - val_accuracy: 0.9235\n",
      "Epoch 17/100\n",
      "107/107 [==============================] - 0s 1ms/step - loss: 0.1950 - accuracy: 0.9185 - val_loss: 0.1918 - val_accuracy: 0.9306\n",
      "Epoch 18/100\n",
      "107/107 [==============================] - 0s 1ms/step - loss: 0.1896 - accuracy: 0.9223 - val_loss: 0.1899 - val_accuracy: 0.9341\n",
      "Epoch 19/100\n",
      "107/107 [==============================] - 0s 1ms/step - loss: 0.1835 - accuracy: 0.9241 - val_loss: 0.1879 - val_accuracy: 0.9341\n",
      "Epoch 20/100\n",
      "107/107 [==============================] - 0s 1ms/step - loss: 0.1799 - accuracy: 0.9285 - val_loss: 0.1803 - val_accuracy: 0.9341\n",
      "Epoch 21/100\n",
      "107/107 [==============================] - 0s 1ms/step - loss: 0.1751 - accuracy: 0.9341 - val_loss: 0.1803 - val_accuracy: 0.9353\n",
      "Epoch 22/100\n",
      "107/107 [==============================] - 0s 1ms/step - loss: 0.1707 - accuracy: 0.9347 - val_loss: 0.1780 - val_accuracy: 0.9412\n",
      "Epoch 23/100\n",
      "107/107 [==============================] - 0s 1ms/step - loss: 0.1684 - accuracy: 0.9391 - val_loss: 0.1738 - val_accuracy: 0.9435\n",
      "Epoch 24/100\n",
      "107/107 [==============================] - 0s 1ms/step - loss: 0.1641 - accuracy: 0.9400 - val_loss: 0.1741 - val_accuracy: 0.9412\n",
      "Epoch 25/100\n",
      "107/107 [==============================] - 0s 1ms/step - loss: 0.1607 - accuracy: 0.9408 - val_loss: 0.1718 - val_accuracy: 0.9365\n",
      "Epoch 26/100\n",
      "107/107 [==============================] - 0s 1ms/step - loss: 0.1572 - accuracy: 0.9429 - val_loss: 0.1713 - val_accuracy: 0.9435\n",
      "Epoch 27/100\n",
      "107/107 [==============================] - 0s 1ms/step - loss: 0.1543 - accuracy: 0.9438 - val_loss: 0.1759 - val_accuracy: 0.9459\n",
      "Epoch 28/100\n",
      "107/107 [==============================] - 0s 1ms/step - loss: 0.1521 - accuracy: 0.9426 - val_loss: 0.1676 - val_accuracy: 0.9447\n",
      "Epoch 29/100\n",
      "107/107 [==============================] - 0s 1ms/step - loss: 0.1501 - accuracy: 0.9435 - val_loss: 0.1650 - val_accuracy: 0.9471\n",
      "Epoch 30/100\n",
      "107/107 [==============================] - 0s 1ms/step - loss: 0.1476 - accuracy: 0.9461 - val_loss: 0.1650 - val_accuracy: 0.9471\n",
      "Epoch 31/100\n",
      "107/107 [==============================] - 0s 1ms/step - loss: 0.1457 - accuracy: 0.9488 - val_loss: 0.1618 - val_accuracy: 0.9494\n",
      "Epoch 32/100\n",
      "107/107 [==============================] - 0s 1ms/step - loss: 0.1436 - accuracy: 0.9473 - val_loss: 0.1617 - val_accuracy: 0.9471\n",
      "Epoch 33/100\n",
      "107/107 [==============================] - 0s 1ms/step - loss: 0.1418 - accuracy: 0.9503 - val_loss: 0.1595 - val_accuracy: 0.9494\n",
      "Epoch 34/100\n",
      "107/107 [==============================] - 0s 1ms/step - loss: 0.1390 - accuracy: 0.9497 - val_loss: 0.1627 - val_accuracy: 0.9482\n",
      "Epoch 35/100\n",
      "107/107 [==============================] - 0s 1ms/step - loss: 0.1384 - accuracy: 0.9514 - val_loss: 0.1610 - val_accuracy: 0.9541\n",
      "Epoch 36/100\n",
      "107/107 [==============================] - 0s 1ms/step - loss: 0.1377 - accuracy: 0.9485 - val_loss: 0.1588 - val_accuracy: 0.9506\n",
      "Epoch 37/100\n",
      "107/107 [==============================] - 0s 1ms/step - loss: 0.1362 - accuracy: 0.9511 - val_loss: 0.1563 - val_accuracy: 0.9553\n",
      "Epoch 38/100\n",
      "107/107 [==============================] - 0s 1ms/step - loss: 0.1351 - accuracy: 0.9500 - val_loss: 0.1565 - val_accuracy: 0.9553\n",
      "Epoch 39/100\n",
      "107/107 [==============================] - 0s 1ms/step - loss: 0.1329 - accuracy: 0.9514 - val_loss: 0.1519 - val_accuracy: 0.9506\n",
      "Epoch 40/100\n",
      "107/107 [==============================] - 0s 1ms/step - loss: 0.1308 - accuracy: 0.9541 - val_loss: 0.1498 - val_accuracy: 0.9553\n",
      "Epoch 41/100\n",
      "107/107 [==============================] - 0s 1ms/step - loss: 0.1305 - accuracy: 0.9535 - val_loss: 0.1509 - val_accuracy: 0.9553\n",
      "Epoch 42/100\n",
      "107/107 [==============================] - 0s 1ms/step - loss: 0.1296 - accuracy: 0.9544 - val_loss: 0.1546 - val_accuracy: 0.9529\n",
      "Epoch 43/100\n",
      "107/107 [==============================] - 0s 1ms/step - loss: 0.1278 - accuracy: 0.9544 - val_loss: 0.1494 - val_accuracy: 0.9529\n",
      "Epoch 44/100\n",
      "107/107 [==============================] - 0s 1ms/step - loss: 0.1261 - accuracy: 0.9550 - val_loss: 0.1475 - val_accuracy: 0.9506\n",
      "Epoch 45/100\n",
      "107/107 [==============================] - 0s 1ms/step - loss: 0.1267 - accuracy: 0.9538 - val_loss: 0.1436 - val_accuracy: 0.9565\n",
      "Epoch 46/100\n",
      "107/107 [==============================] - 0s 1ms/step - loss: 0.1242 - accuracy: 0.9556 - val_loss: 0.1453 - val_accuracy: 0.9494\n",
      "Epoch 47/100\n",
      "107/107 [==============================] - 0s 1ms/step - loss: 0.1224 - accuracy: 0.9567 - val_loss: 0.1427 - val_accuracy: 0.9482\n",
      "Epoch 48/100\n",
      "107/107 [==============================] - 0s 1ms/step - loss: 0.1225 - accuracy: 0.9553 - val_loss: 0.1452 - val_accuracy: 0.9541\n",
      "Epoch 49/100\n",
      "107/107 [==============================] - 0s 1ms/step - loss: 0.1212 - accuracy: 0.9570 - val_loss: 0.1440 - val_accuracy: 0.9541\n",
      "Epoch 50/100\n",
      "107/107 [==============================] - 0s 1ms/step - loss: 0.1212 - accuracy: 0.9567 - val_loss: 0.1440 - val_accuracy: 0.9565\n",
      "Epoch 51/100\n",
      "107/107 [==============================] - 0s 1ms/step - loss: 0.1198 - accuracy: 0.9591 - val_loss: 0.1402 - val_accuracy: 0.9576\n",
      "Epoch 52/100\n",
      "107/107 [==============================] - 0s 1ms/step - loss: 0.1195 - accuracy: 0.9582 - val_loss: 0.1420 - val_accuracy: 0.9565\n",
      "Epoch 53/100\n",
      "107/107 [==============================] - 0s 1ms/step - loss: 0.1188 - accuracy: 0.9570 - val_loss: 0.1448 - val_accuracy: 0.9553\n",
      "Epoch 54/100\n",
      "107/107 [==============================] - 0s 1ms/step - loss: 0.1192 - accuracy: 0.9594 - val_loss: 0.1385 - val_accuracy: 0.9565\n",
      "Epoch 55/100\n",
      "107/107 [==============================] - 0s 1ms/step - loss: 0.1169 - accuracy: 0.9609 - val_loss: 0.1425 - val_accuracy: 0.9600\n",
      "Epoch 56/100\n",
      "107/107 [==============================] - 0s 1ms/step - loss: 0.1169 - accuracy: 0.9612 - val_loss: 0.1379 - val_accuracy: 0.9588\n",
      "Epoch 57/100\n",
      "107/107 [==============================] - 0s 1ms/step - loss: 0.1152 - accuracy: 0.9606 - val_loss: 0.1370 - val_accuracy: 0.9612\n",
      "Epoch 58/100\n",
      "107/107 [==============================] - 0s 1ms/step - loss: 0.1152 - accuracy: 0.9597 - val_loss: 0.1350 - val_accuracy: 0.9541\n",
      "Epoch 59/100\n",
      "107/107 [==============================] - 0s 1ms/step - loss: 0.1148 - accuracy: 0.9603 - val_loss: 0.1360 - val_accuracy: 0.9624\n",
      "Epoch 60/100\n",
      "107/107 [==============================] - 0s 1ms/step - loss: 0.1135 - accuracy: 0.9617 - val_loss: 0.1353 - val_accuracy: 0.9624\n",
      "Epoch 61/100\n",
      "107/107 [==============================] - 0s 1ms/step - loss: 0.1123 - accuracy: 0.9606 - val_loss: 0.1329 - val_accuracy: 0.9541\n",
      "Epoch 62/100\n",
      "107/107 [==============================] - 0s 1ms/step - loss: 0.1118 - accuracy: 0.9600 - val_loss: 0.1351 - val_accuracy: 0.9600\n",
      "Epoch 63/100\n",
      "107/107 [==============================] - 0s 1ms/step - loss: 0.1121 - accuracy: 0.9623 - val_loss: 0.1350 - val_accuracy: 0.9588\n",
      "Epoch 64/100\n",
      "107/107 [==============================] - 0s 1ms/step - loss: 0.1110 - accuracy: 0.9609 - val_loss: 0.1309 - val_accuracy: 0.9612\n",
      "Epoch 65/100\n",
      "107/107 [==============================] - 0s 1ms/step - loss: 0.1102 - accuracy: 0.9626 - val_loss: 0.1326 - val_accuracy: 0.9576\n",
      "Epoch 66/100\n",
      "107/107 [==============================] - 0s 1ms/step - loss: 0.1101 - accuracy: 0.9641 - val_loss: 0.1305 - val_accuracy: 0.9635\n",
      "Epoch 67/100\n",
      "107/107 [==============================] - 0s 1ms/step - loss: 0.1098 - accuracy: 0.9635 - val_loss: 0.1295 - val_accuracy: 0.9612\n",
      "Epoch 68/100\n",
      "107/107 [==============================] - 0s 1ms/step - loss: 0.1083 - accuracy: 0.9635 - val_loss: 0.1290 - val_accuracy: 0.9565\n",
      "Epoch 69/100\n",
      "107/107 [==============================] - 0s 1ms/step - loss: 0.1075 - accuracy: 0.9626 - val_loss: 0.1290 - val_accuracy: 0.9624\n",
      "Epoch 70/100\n",
      "107/107 [==============================] - 0s 1ms/step - loss: 0.1083 - accuracy: 0.9632 - val_loss: 0.1327 - val_accuracy: 0.9647\n",
      "Epoch 71/100\n",
      "107/107 [==============================] - 0s 1ms/step - loss: 0.1072 - accuracy: 0.9644 - val_loss: 0.1279 - val_accuracy: 0.9624\n",
      "Epoch 72/100\n",
      "107/107 [==============================] - 0s 1ms/step - loss: 0.1067 - accuracy: 0.9647 - val_loss: 0.1290 - val_accuracy: 0.9659\n",
      "Epoch 73/100\n",
      "107/107 [==============================] - 0s 1ms/step - loss: 0.1081 - accuracy: 0.9638 - val_loss: 0.1233 - val_accuracy: 0.9624\n",
      "Epoch 74/100\n",
      "107/107 [==============================] - 0s 1ms/step - loss: 0.1083 - accuracy: 0.9632 - val_loss: 0.1342 - val_accuracy: 0.9588\n",
      "Epoch 75/100\n",
      "107/107 [==============================] - 0s 1ms/step - loss: 0.1063 - accuracy: 0.9647 - val_loss: 0.1254 - val_accuracy: 0.9624\n",
      "Epoch 76/100\n",
      "107/107 [==============================] - 0s 1ms/step - loss: 0.1060 - accuracy: 0.9626 - val_loss: 0.1256 - val_accuracy: 0.9624\n",
      "Epoch 77/100\n",
      "107/107 [==============================] - 0s 1ms/step - loss: 0.1046 - accuracy: 0.9656 - val_loss: 0.1220 - val_accuracy: 0.9635\n",
      "Epoch 78/100\n",
      "107/107 [==============================] - 0s 1ms/step - loss: 0.1041 - accuracy: 0.9650 - val_loss: 0.1252 - val_accuracy: 0.9659\n",
      "Epoch 79/100\n",
      "107/107 [==============================] - 0s 1ms/step - loss: 0.1044 - accuracy: 0.9644 - val_loss: 0.1203 - val_accuracy: 0.9624\n",
      "Epoch 80/100\n",
      "107/107 [==============================] - 0s 1ms/step - loss: 0.1038 - accuracy: 0.9656 - val_loss: 0.1196 - val_accuracy: 0.9624\n",
      "Epoch 81/100\n",
      "107/107 [==============================] - 0s 1ms/step - loss: 0.1034 - accuracy: 0.9647 - val_loss: 0.1249 - val_accuracy: 0.9647\n",
      "Epoch 82/100\n",
      "107/107 [==============================] - 0s 1ms/step - loss: 0.1037 - accuracy: 0.9662 - val_loss: 0.1235 - val_accuracy: 0.9635\n",
      "Epoch 83/100\n",
      "107/107 [==============================] - 0s 1ms/step - loss: 0.1026 - accuracy: 0.9647 - val_loss: 0.1197 - val_accuracy: 0.9671\n",
      "Epoch 84/100\n",
      "107/107 [==============================] - 0s 1ms/step - loss: 0.1029 - accuracy: 0.9673 - val_loss: 0.1217 - val_accuracy: 0.9671\n",
      "Epoch 85/100\n",
      "107/107 [==============================] - 0s 1ms/step - loss: 0.1025 - accuracy: 0.9673 - val_loss: 0.1216 - val_accuracy: 0.9635\n",
      "Epoch 86/100\n",
      "107/107 [==============================] - 0s 1ms/step - loss: 0.1011 - accuracy: 0.9647 - val_loss: 0.1266 - val_accuracy: 0.9647\n",
      "Epoch 87/100\n",
      "107/107 [==============================] - 0s 1ms/step - loss: 0.1018 - accuracy: 0.9644 - val_loss: 0.1252 - val_accuracy: 0.9647\n",
      "Epoch 88/100\n",
      "107/107 [==============================] - 0s 1ms/step - loss: 0.1017 - accuracy: 0.9641 - val_loss: 0.1208 - val_accuracy: 0.9635\n",
      "Epoch 89/100\n",
      "107/107 [==============================] - 0s 1ms/step - loss: 0.1010 - accuracy: 0.9685 - val_loss: 0.1203 - val_accuracy: 0.9647\n",
      "Epoch 90/100\n",
      "107/107 [==============================] - 0s 1ms/step - loss: 0.1014 - accuracy: 0.9656 - val_loss: 0.1226 - val_accuracy: 0.9635\n",
      "Epoch 91/100\n",
      "107/107 [==============================] - 0s 1ms/step - loss: 0.1000 - accuracy: 0.9679 - val_loss: 0.1230 - val_accuracy: 0.9647\n",
      "Epoch 92/100\n",
      "107/107 [==============================] - 0s 1ms/step - loss: 0.0997 - accuracy: 0.9656 - val_loss: 0.1173 - val_accuracy: 0.9624\n",
      "Epoch 93/100\n",
      "107/107 [==============================] - 0s 1ms/step - loss: 0.0996 - accuracy: 0.9673 - val_loss: 0.1248 - val_accuracy: 0.9671\n",
      "Epoch 94/100\n",
      "107/107 [==============================] - 0s 1ms/step - loss: 0.0994 - accuracy: 0.9673 - val_loss: 0.1217 - val_accuracy: 0.9659\n",
      "Epoch 95/100\n",
      "107/107 [==============================] - 0s 1ms/step - loss: 0.0991 - accuracy: 0.9667 - val_loss: 0.1178 - val_accuracy: 0.9671\n",
      "Epoch 96/100\n",
      "107/107 [==============================] - 0s 1ms/step - loss: 0.0993 - accuracy: 0.9670 - val_loss: 0.1146 - val_accuracy: 0.9635\n",
      "Epoch 97/100\n",
      "107/107 [==============================] - 0s 1ms/step - loss: 0.0991 - accuracy: 0.9667 - val_loss: 0.1165 - val_accuracy: 0.9659\n",
      "Epoch 98/100\n",
      "107/107 [==============================] - 0s 1ms/step - loss: 0.0979 - accuracy: 0.9700 - val_loss: 0.1155 - val_accuracy: 0.9682\n",
      "Epoch 99/100\n",
      "107/107 [==============================] - 0s 1ms/step - loss: 0.0988 - accuracy: 0.9667 - val_loss: 0.1172 - val_accuracy: 0.9671\n",
      "Epoch 100/100\n",
      "107/107 [==============================] - 0s 1ms/step - loss: 0.0989 - accuracy: 0.9682 - val_loss: 0.1159 - val_accuracy: 0.9647\n"
     ]
    }
   ],
   "source": [
    "#Training the model\n",
    "model.compile(loss='binary_crossentropy', optimizer='Adam', metrics=['accuracy'])\n",
    "history = model.fit(X_train_scaled, y_train, epochs = 100, validation_split=0.2)"
   ]
  },
  {
   "cell_type": "code",
   "execution_count": 24,
   "id": "337e2317",
   "metadata": {},
   "outputs": [
    {
     "data": {
      "text/plain": [
       "Text(0.5, 1.0, 'Loss Plot of NN Model')"
      ]
     },
     "execution_count": 24,
     "metadata": {},
     "output_type": "execute_result"
    },
    {
     "data": {
      "image/png": "[encoded data removed]",
      "text/plain": [
       "<Figure size 640x480 with 1 Axes>"
      ]
     },
     "metadata": {},
     "output_type": "display_data"
    }
   ],
   "source": [
    "#Plotting Loss of NN Model\n",
    "plt.plot(history.history['loss'])\n",
    "plt.plot(history.history['val_loss'])\n",
    "plt.title('Loss Plot of NN Model')"
   ]
  },
  {
   "cell_type": "code",
   "execution_count": 25,
   "id": "fc4beb98",
   "metadata": {},
   "outputs": [
    {
     "data": {
      "text/plain": [
       "Text(0.5, 1.0, 'Accuracy Plot of NN Model')"
      ]
     },
     "execution_count": 25,
     "metadata": {},
     "output_type": "execute_result"
    },
    {
     "data": {
      "image/png": "[encoded data removed]",
      "text/plain": [
       "<Figure size 640x480 with 1 Axes>"
      ]
     },
     "metadata": {},
     "output_type": "display_data"
    }
   ],
   "source": [
    "#Plotting Accuracy of NN Model\n",
    "plt.plot(history.history['accuracy'])\n",
    "plt.plot(history.history['val_accuracy'])\n",
    "plt.title('Accuracy Plot of NN Model')"
   ]
  },
  {
   "cell_type": "code",
   "execution_count": 26,
   "id": "fb088891",
   "metadata": {},
   "outputs": [
    {
     "name": "stdout",
     "output_type": "stream",
     "text": [
      "34/34 [==============================] - 0s 837us/step - loss: 0.1054 - accuracy: 0.9548\n"
     ]
    },
    {
     "data": {
      "text/plain": [
       "[0.10538297891616821, 0.9548022747039795]"
      ]
     },
     "execution_count": 26,
     "metadata": {},
     "output_type": "execute_result"
    }
   ],
   "source": [
    "#Evaluating NN Model\n",
    "model.evaluate(X_test_scaled,y_test)"
   ]
  },
  {
   "cell_type": "code",
   "execution_count": 27,
   "id": "74f3fe6e",
   "metadata": {},
   "outputs": [
    {
     "name": "stdout",
     "output_type": "stream",
     "text": [
      "34/34 [==============================] - 0s 601us/step\n",
      "[[9.9935114e-01]\n",
      " [1.4303086e-03]\n",
      " [7.1145609e-02]\n",
      " ...\n",
      " [9.9600452e-01]\n",
      " [3.9539675e-19]\n",
      " [9.9976832e-01]]\n"
     ]
    },
    {
     "data": {
      "text/html": [
       "<div>\n",
       "<style scoped>\n",
       "    .dataframe tbody tr th:only-of-type {\n",
       "        vertical-align: middle;\n",
       "    }\n",
       "\n",
       "    .dataframe tbody tr th {\n",
       "        vertical-align: top;\n",
       "    }\n",
       "\n",
       "    .dataframe thead th {\n",
       "        text-align: right;\n",
       "    }\n",
       "</style>\n",
       "<table border=\"1\" class=\"dataframe\">\n",
       "  <thead>\n",
       "    <tr style=\"text-align: right;\">\n",
       "      <th></th>\n",
       "      <th>orignal_churn</th>\n",
       "      <th>predicted_churn</th>\n",
       "    </tr>\n",
       "  </thead>\n",
       "  <tbody>\n",
       "    <tr>\n",
       "      <th>999</th>\n",
       "      <td>1</td>\n",
       "      <td>1</td>\n",
       "    </tr>\n",
       "    <tr>\n",
       "      <th>1197</th>\n",
       "      <td>0</td>\n",
       "      <td>0</td>\n",
       "    </tr>\n",
       "    <tr>\n",
       "      <th>2666</th>\n",
       "      <td>0</td>\n",
       "      <td>0</td>\n",
       "    </tr>\n",
       "    <tr>\n",
       "      <th>1544</th>\n",
       "      <td>0</td>\n",
       "      <td>0</td>\n",
       "    </tr>\n",
       "    <tr>\n",
       "      <th>1315</th>\n",
       "      <td>0</td>\n",
       "      <td>0</td>\n",
       "    </tr>\n",
       "    <tr>\n",
       "      <th>1022</th>\n",
       "      <td>1</td>\n",
       "      <td>1</td>\n",
       "    </tr>\n",
       "    <tr>\n",
       "      <th>2925</th>\n",
       "      <td>0</td>\n",
       "      <td>0</td>\n",
       "    </tr>\n",
       "    <tr>\n",
       "      <th>141</th>\n",
       "      <td>1</td>\n",
       "      <td>1</td>\n",
       "    </tr>\n",
       "    <tr>\n",
       "      <th>1403</th>\n",
       "      <td>0</td>\n",
       "      <td>0</td>\n",
       "    </tr>\n",
       "    <tr>\n",
       "      <th>1131</th>\n",
       "      <td>1</td>\n",
       "      <td>1</td>\n",
       "    </tr>\n",
       "  </tbody>\n",
       "</table>\n",
       "</div>"
      ],
      "text/plain": [
       "      orignal_churn  predicted_churn\n",
       "999               1                1\n",
       "1197              0                0\n",
       "2666              0                0\n",
       "1544              0                0\n",
       "1315              0                0\n",
       "1022              1                1\n",
       "2925              0                0\n",
       "141               1                1\n",
       "1403              0                0\n",
       "1131              1                1"
      ]
     },
     "execution_count": 27,
     "metadata": {},
     "output_type": "execute_result"
    }
   ],
   "source": [
    "#Predicting the Churn values\n",
    "y_pred = model.predict(X_test_scaled)\n",
    "print(y_pred)\n",
    "# unscaling the ypred values \n",
    "y_pred_lis = []\n",
    "for i in y_pred:\n",
    "    if i>0.5:\n",
    "        y_pred_lis.append(1)\n",
    "    else:\n",
    "        y_pred_lis.append(0)\n",
    "        \n",
    "#make dataframe for comparing the orignal and predict values\n",
    "data = {'orignal_churn':y_test, 'predicted_churn':y_pred_lis}\n",
    "df_check = pd.DataFrame(data)\n",
    "df_check.head(10)        "
   ]
  },
  {
   "cell_type": "code",
   "execution_count": 37,
   "id": "690b471f",
   "metadata": {},
   "outputs": [
    {
     "name": "stdout",
     "output_type": "stream",
     "text": [
      "              precision    recall  f1-score   support\n",
      "\n",
      "           0       0.99      0.92      0.95       550\n",
      "           1       0.92      0.99      0.95       512\n",
      "\n",
      "    accuracy                           0.95      1062\n",
      "   macro avg       0.96      0.96      0.95      1062\n",
      "weighted avg       0.96      0.95      0.95      1062\n",
      "\n"
     ]
    },
    {
     "data": {
      "text/plain": [
       "Text(95.72222222222221, 0.5, 'True_number')"
      ]
     },
     "execution_count": 37,
     "metadata": {},
     "output_type": "execute_result"
    },
    {
     "data": {
      "image/png": "[encoded data removed]",
      "text/plain": [
       "<Figure size 1000x600 with 2 Axes>"
      ]
     },
     "metadata": {},
     "output_type": "display_data"
    }
   ],
   "source": [
    "# Checking Performance Metrices\n",
    "print(classification_report(y_test,y_pred_lis))\n",
    "conf_mat = tf.math.confusion_matrix(labels=y_test,predictions=y_pred_lis)\n",
    "annot_kws = {\"size\": 12}\n",
    "plt.figure(figsize = (10,6))\n",
    "sns.heatmap(conf_mat, annot=True,fmt='d',cmap=sns.color_palette(\"coolwarm\", as_cmap=True),annot_kws=annot_kws)\n",
    "plt.xlabel('Predicted_number')\n",
    "plt.ylabel('True_number')"
   ]
  },
  {
   "cell_type": "code",
   "execution_count": null,
   "id": "9bb62343",
   "metadata": {},
   "outputs": [],
   "source": []
  }
 ],
 "metadata": {
  "kernelspec": {
   "display_name": "Python 3 (ipykernel)",
   "language": "python",
   "name": "python3"
  },
  "language_info": {
   "codemirror_mode": {
    "name": "ipython",
    "version": 3
   },
   "file_extension": ".py",
   "mimetype": "text/x-python",
   "name": "python",
   "nbconvert_exporter": "python",
   "pygments_lexer": "ipython3",
   "version": "3.11.5"
  }
 },
 "nbformat": 4,
 "nbformat_minor": 5
}

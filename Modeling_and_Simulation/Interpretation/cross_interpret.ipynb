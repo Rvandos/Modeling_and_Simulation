{
 "cells": [
  {
   "cell_type": "code",
   "execution_count": 12,
   "metadata": {},
   "outputs": [],
   "source": [
    "import pickle\n",
    "import os\n",
    "import numpy as np\n",
    "import matplotlib.pyplot as plt"
   ]
  },
  {
   "cell_type": "markdown",
   "metadata": {},
   "source": [
    "### Load in Logistic Regression results:"
   ]
  },
  {
   "cell_type": "code",
   "execution_count": 13,
   "metadata": {},
   "outputs": [],
   "source": [
    "n_sim = 1000\n",
    "log_results_loc = os.path.abspath((os.path.join(os.getcwd(), '..', '..', 'Modeling_and_Simulation', 'Results', 'logistic_bootstrap')))\n",
    "nn_results_loc = os.path.abspath((os.path.join(os.getcwd(), '..', '..', 'Modeling_and_Simulation','Results', 'nn_bootstrap')))\n",
    "\n",
    "#Accuracy\n",
    "with open(log_results_loc + f'/logistic_regression_accuracy_{n_sim}.pkl', 'rb') as f:\n",
    "    logreg_corr_acc = np.array(pickle.load(f))\n",
    "with open(nn_results_loc + f'/logistic_regression_accuracy_{n_sim}.pkl', 'rb') as f:\n",
    "    logreg_mis_acc = np.array(pickle.load(f))\n",
    "\n",
    "#Weighted F1-score\n",
    "with open(log_results_loc + f'/logistic_regression_f1_w_{n_sim}.pkl', 'rb') as f:\n",
    "    logreg_corr_f1_w = np.array(pickle.load(f))\n",
    "with open(nn_results_loc + f'/logistic_regression_f1_w_{n_sim}.pkl', 'rb') as f:\n",
    "    logreg_mis_f1_w = np.array(pickle.load(f))"
   ]
  },
  {
   "cell_type": "code",
   "execution_count": 14,
   "metadata": {},
   "outputs": [
    {
     "name": "stdout",
     "output_type": "stream",
     "text": [
      "6.285939630400323e-05 0.00018286226011082632 6.294617832552788e-05 0.00018429277228119368\n"
     ]
    }
   ],
   "source": [
    "#Compute the Standard Errors\n",
    "logreg_corr_acc_se = logreg_corr_acc.std()/np.sqrt(len(logreg_corr_acc))\n",
    "logreg_mis_acc_se = logreg_mis_acc.std()/np.sqrt(len(logreg_mis_acc))\n",
    "\n",
    "logreg_corr_f1_se = logreg_corr_f1_w.std()/np.sqrt(len(logreg_corr_f1_w))\n",
    "logreg_mis_f1_se = logreg_mis_f1_w.std()/np.sqrt(len(logreg_mis_f1_w))\n",
    "print(logreg_corr_acc_se, logreg_mis_acc_se, logreg_corr_f1_se, logreg_mis_f1_se)"
   ]
  },
  {
   "cell_type": "markdown",
   "metadata": {},
   "source": [
    "### Load in the Neural Network results:"
   ]
  },
  {
   "cell_type": "code",
   "execution_count": 15,
   "metadata": {},
   "outputs": [],
   "source": [
    "#Accuracy\n",
    "with open(log_results_loc + f'/neural_network_accuracy_{n_sim}.pkl', 'rb') as f:\n",
    "    nn_mis_acc = np.array(pickle.load(f))\n",
    "with open(nn_results_loc + f'/neural_network_accuracy_{n_sim}.pkl', 'rb') as f:\n",
    "    nn_corr_acc = np.array(pickle.load(f))\n",
    "\n",
    "#Weighted F1-score\n",
    "with open(log_results_loc + f'/neural_network_f1_w_{n_sim}.pkl', 'rb') as f:\n",
    "    nn_mis_f1_w = np.array(pickle.load(f))\n",
    "with open(nn_results_loc + f'/neural_network_f1_w_{n_sim}.pkl', 'rb') as f:\n",
    "    nn_corr_f1_w = np.array(pickle.load(f))"
   ]
  },
  {
   "cell_type": "code",
   "execution_count": 16,
   "metadata": {},
   "outputs": [
    {
     "name": "stdout",
     "output_type": "stream",
     "text": [
      "0.00021632102059350884 0.00015762827032273844 0.00021560556087883533 0.00016118103466269856\n"
     ]
    }
   ],
   "source": [
    "#Compute the Standard Errors\n",
    "nn_corr_acc_se = nn_corr_acc.std()/np.sqrt(len(nn_corr_acc))\n",
    "nn_mis_acc_se = nn_mis_acc.std()/np.sqrt(len(nn_mis_acc))\n",
    "\n",
    "nn_corr_f1_se = nn_corr_f1_w.std()/np.sqrt(len(nn_corr_f1_w))\n",
    "nn_mis_f1_se = nn_mis_f1_w.std()/np.sqrt(len(nn_mis_f1_w))\n",
    "print(nn_corr_acc_se, nn_mis_acc_se, nn_corr_f1_se, nn_mis_f1_se)"
   ]
  },
  {
   "cell_type": "markdown",
   "metadata": {},
   "source": [
    "### Compute relative performances (within estimators):"
   ]
  },
  {
   "cell_type": "code",
   "execution_count": 17,
   "metadata": {},
   "outputs": [
    {
     "name": "stdout",
     "output_type": "stream",
     "text": [
      "The relative stability of the accuracy measure for the logistic regression is 2.9090680290097004.\n",
      "The relative stability of the accuracy measure for the neural network is 0.7286775454843079.\n",
      "The relative stability of the F1 measure for the logistic regression is 2.9277833410015552.\n",
      "The relative stability of the F1 measure for the neural network is 0.7475736433035606.\n"
     ]
    }
   ],
   "source": [
    "#logreg relative stability accuracy (misspecification/correct specification)\n",
    "logreg_rel_acc = logreg_mis_acc_se/logreg_corr_acc_se\n",
    "print(f'The relative stability of the accuracy measure for the logistic regression is {logreg_rel_acc}.')\n",
    "\n",
    "#Nn relative stability accuracy (misspecification/correct specification)\n",
    "nn_rel_acc = nn_mis_acc_se/nn_corr_acc_se\n",
    "print(f'The relative stability of the accuracy measure for the neural network is {nn_rel_acc}.')\n",
    "\n",
    "#logreg relative stability accuracy (misspecification/correct specification)\n",
    "logreg_rel_f1 = logreg_mis_f1_se/logreg_corr_f1_se\n",
    "print(f'The relative stability of the F1 measure for the logistic regression is {logreg_rel_f1}.')\n",
    "\n",
    "#Nn relative stability accuracy (misspecification/correct specification)\n",
    "nn_rel_f1 = nn_mis_f1_se/nn_corr_f1_se\n",
    "print(f'The relative stability of the F1 measure for the neural network is {nn_rel_f1}.')"
   ]
  },
  {
   "cell_type": "markdown",
   "metadata": {},
   "source": [
    "### Compute relative performances (between estimators):"
   ]
  },
  {
   "cell_type": "code",
   "execution_count": 23,
   "metadata": {},
   "outputs": [
    {
     "name": "stdout",
     "output_type": "stream",
     "text": [
      "The relative stability of the neural network and the logistic regression accuracy under correct specification is: 3.4413474088635545.\n",
      "The relative stability of the neural network and the logistic regression accuracy under mis-specification is: 0.8620054801204226.\n",
      "The relative stability of the neural network and the logistic regression F1-score under correct specification is: 3.425236711970428.\n",
      "The relative stability of the neural network and the logistic regression F1-score under mis-specification is: 0.8745922733028767.\n"
     ]
    }
   ],
   "source": [
    "#relative stability of accuracy & F1 measure (nn over logreg) under correct specification:\n",
    "rel_corr_acc = nn_corr_acc_se/logreg_corr_acc_se\n",
    "print(f'The relative stability of the neural network and the logistic regression accuracy under correct specification is: {rel_corr_acc}.')\n",
    "rel_corr_f1 = nn_corr_f1_se/logreg_corr_f1_se\n",
    "\n",
    "#relative stability of accuracy & F1 measure (nn over logreg) under mis-specification:\n",
    "rel_mis_acc = nn_mis_acc_se/logreg_mis_acc_se\n",
    "print(f'The relative stability of the neural network and the logistic regression accuracy under mis-specification is: {rel_mis_acc}.')\n",
    "rel_mis_f1 = nn_mis_f1_se/logreg_mis_f1_se\n",
    "\n",
    "print(f'The relative stability of the neural network and the logistic regression F1-score under correct specification is: {rel_corr_f1}.')\n",
    "print(f'The relative stability of the neural network and the logistic regression F1-score under mis-specification is: {rel_mis_f1}.')"
   ]
  },
  {
   "cell_type": "code",
   "execution_count": null,
   "metadata": {},
   "outputs": [],
   "source": []
  }
 ],
 "metadata": {
  "kernelspec": {
   "display_name": "modeling_and_simulation",
   "language": "python",
   "name": "python3"
  },
  "language_info": {
   "codemirror_mode": {
    "name": "ipython",
    "version": 3
   },
   "file_extension": ".py",
   "mimetype": "text/x-python",
   "name": "python",
   "nbconvert_exporter": "python",
   "pygments_lexer": "ipython3",
   "version": "3.9.18"
  }
 },
 "nbformat": 4,
 "nbformat_minor": 2
}

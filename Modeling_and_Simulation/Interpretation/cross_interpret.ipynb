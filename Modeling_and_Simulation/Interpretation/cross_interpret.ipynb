{
 "cells": [
  {
   "cell_type": "code",
   "execution_count": null,
   "metadata": {},
   "outputs": [],
   "source": [
    "import pickle\n",
    "import os\n",
    "import numpy as np\n",
    "import matplotlib.pyplot as plt"
   ]
  },
  {
   "cell_type": "markdown",
   "metadata": {},
   "source": [
    "### Load in Logistic Regression results:"
   ]
  },
  {
   "cell_type": "code",
   "execution_count": null,
   "metadata": {},
   "outputs": [],
   "source": [
    "n_sim = 1000\n",
    "log_results_loc = os.path.abspath((os.path.join(os.getcwd(), '..', '..', 'Results', 'logistic_bootstrap')))\n",
    "nn_results_loc = os.path.abspath((os.path.join(os.getcwd(), '..', '..', 'Results', 'nn_bootstrap')))\n",
    "\n",
    "#Accuracy\n",
    "with open(log_results_loc + f'/logistic_regression_accuracy_{n_sim}.pkl', 'rb') as f:\n",
    "    logreg_corr_acc = np.array(pickle.load(f))\n",
    "with open(nn_results_loc + f'/logistic_regression_accuracy_{n_sim}.pkl', 'rb') as f:\n",
    "    logreg_mis_acc = np.array(pickle.load(f))\n",
    "\n",
    "#Weighted F1-score\n",
    "with open(log_results_loc + f'/logistic_regression_f1_w_{n_sim}.pkl', 'rb') as f:\n",
    "    logreg_corr_f1_w = np.array(pickle.load(f))\n",
    "with open(nn_results_loc + f'/logistic_regression_f1_w_{n_sim}.pkl', 'rb') as f:\n",
    "    logreg_mis_f1_w = np.array(pickle.load(f))"
   ]
  },
  {
   "cell_type": "code",
   "execution_count": null,
   "metadata": {},
   "outputs": [],
   "source": [
    "#Compute the Standard Errors\n",
    "logreg_corr_acc_se = logreg_corr_acc.std()/np.sqrt(len(logreg_corr_acc))\n",
    "logreg_mis_acc_se = logreg_corr_acc.std()/np.sqrt(len(logreg_mis_acc))\n",
    "\n",
    "logreg_corr_f1_se = logreg_corr_f1_w.std()/np.sqrt(len(logreg_corr_f1_w))\n",
    "logreg_mis_f1_se = logreg_mis_f1_w.std()/np.sqrt(len(logreg_mis_f1_w))"
   ]
  },
  {
   "cell_type": "markdown",
   "metadata": {},
   "source": [
    "### Load in the Neural Network results:"
   ]
  },
  {
   "cell_type": "code",
   "execution_count": null,
   "metadata": {},
   "outputs": [],
   "source": [
    "#Accuracy\n",
    "with open(log_results_loc + f'/neural_network_accuracy_{n_sim}.pkl', 'rb') as f:\n",
    "    nn_corr_acc = np.array(pickle.load(f))\n",
    "with open(nn_results_loc + f'/neural_network_accuracy_{n_sim}.pkl', 'rb') as f:\n",
    "    nn_mis_acc = np.array(pickle.load(f))\n",
    "\n",
    "#Weighted F1-score\n",
    "with open(log_results_loc + f'/neural_network_f1_w_{n_sim}.pkl', 'rb') as f:\n",
    "    nn_corr_f1_w = np.array(pickle.load(f))\n",
    "with open(nn_results_loc + f'/neural_network_f1_w_{n_sim}.pkl', 'rb') as f:\n",
    "    nn_mis_f1_w = np.array(pickle.load(f))"
   ]
  },
  {
   "cell_type": "code",
   "execution_count": null,
   "metadata": {},
   "outputs": [],
   "source": [
    "#Compute the Standard Errors\n",
    "nn_corr_acc_se = nn_corr_acc.std()/np.sqrt(len(nn_corr_acc))\n",
    "nn_mis_acc_se = nn_corr_acc.std()/np.sqrt(len(nn_mis_acc))\n",
    "\n",
    "nn_corr_f1_se = nn_corr_f1_w.std()/np.sqrt(len(nn_corr_f1_w))\n",
    "nn_mis_f1_se = nn_mis_f1_w.std()/np.sqrt(len(nn_mis_f1_w))"
   ]
  },
  {
   "cell_type": "markdown",
   "metadata": {},
   "source": [
    "### Compute relative performances (within estimators):"
   ]
  },
  {
   "cell_type": "code",
   "execution_count": null,
   "metadata": {},
   "outputs": [],
   "source": [
    "#logreg relative stability accuracy (misspecification/correct specification)\n",
    "logreg_rel_acc = logreg_mis_acc_se/logreg_corr_acc_se\n",
    "print(f'The relative stability of the accuracy measure for the logistic regression is {logreg_rel_acc}.')\n",
    "\n",
    "#Nn relative stability accuracy (misspecification/correct specification)\n",
    "nn_rel_acc = nn_mis_acc_se/nn_corr_acc_se\n",
    "print(f'The relative stability of the accuracy measure for the neural network is {nn_rel_acc}.')\n",
    "\n",
    "#logreg relative stability accuracy (misspecification/correct specification)\n",
    "logreg_rel_f1 = logreg_mis_f1_se/logreg_corr_f1_se\n",
    "print(f'The relative stability of the F1 measure for the logistic regression is {logreg_rel_f1}.')\n",
    "\n",
    "#Nn relative stability accuracy (misspecification/correct specification)\n",
    "nn_rel_f1 = nn_mis_f1_se/nn_corr_f1_se\n",
    "print(f'The relative stability of the F1 measure for the neural network is {nn_rel_f1}.')"
   ]
  },
  {
   "cell_type": "markdown",
   "metadata": {},
   "source": [
    "### Compute relative performances (between estimators):"
   ]
  },
  {
   "cell_type": "code",
   "execution_count": null,
   "metadata": {},
   "outputs": [],
   "source": [
    "#relative stability of accuracy & F1 measure (nn over logreg) under correct specification:\n",
    "rel_corr_acc = nn_corr_acc_se/logreg_corr_acc_se\n",
    "rel_corr_f1 = nn_corr_f1_se/logreg_corr_f1_se\n",
    "\n",
    "#relative stability of accuracy & F1 measure (nn over logreg) under mis-specification:\n",
    "rel_mis_acc = nn_mis_acc_se/logreg_mis_acc_se\n",
    "rel_mis_f1 = nn_mis_f1_se/logreg_mis_f1_se"
   ]
  }
 ],
 "metadata": {
  "language_info": {
   "name": "python"
  }
 },
 "nbformat": 4,
 "nbformat_minor": 2
}

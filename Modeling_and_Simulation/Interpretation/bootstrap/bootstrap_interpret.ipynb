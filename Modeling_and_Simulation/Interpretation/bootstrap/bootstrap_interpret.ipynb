{
 "cells": [
  {
   "cell_type": "code",
   "execution_count": 1,
   "metadata": {},
   "outputs": [],
   "source": [
    "import pickle\n",
    "import os\n",
    "import numpy as np"
   ]
  },
  {
   "cell_type": "markdown",
   "metadata": {},
   "source": [
    "### Load in the simulation results"
   ]
  },
  {
   "cell_type": "code",
   "execution_count": 2,
   "metadata": {},
   "outputs": [],
   "source": [
    "results_loc = os.path.abspath((os.path.join(os.getcwd(), '..', '..', 'Results', 'bootstrap')))\n",
    "with open(results_loc + '/logistic_regression_accuracy.pkl', 'rb') as f:\n",
    "    logreg_acc_list = pickle.load(f)\n",
    "with open(results_loc + '/logistic_regression_f1.pkl', 'rb') as f:\n",
    "    logreg_f1_list = pickle.load(f)\n",
    "with open(results_loc + '/neural_network_accuracy.pkl', 'rb') as f:\n",
    "    nn_acc_list = pickle.load(f)\n",
    "with open(results_loc + '/neural_network_f1.pkl', 'rb') as f:\n",
    "    nn_f1_list = pickle.load(f)"
   ]
  },
  {
   "cell_type": "code",
   "execution_count": 3,
   "metadata": {},
   "outputs": [
    {
     "name": "stdout",
     "output_type": "stream",
     "text": [
      "0.8944355555555555\n",
      "0.5717595584997391\n",
      "0.9531411111111111\n",
      "0.8442213634154173\n"
     ]
    }
   ],
   "source": [
    "print(np.array(logreg_acc_list).mean())\n",
    "print(np.array(logreg_f1_list).mean())\n",
    "print(np.array(nn_acc_list).mean())\n",
    "print(np.array(nn_f1_list).mean())"
   ]
  },
  {
   "cell_type": "code",
   "execution_count": 4,
   "metadata": {},
   "outputs": [
    {
     "name": "stdout",
     "output_type": "stream",
     "text": [
      "0.0109331264659743\n",
      "0.044919133116870534\n",
      "0.010124110751987972\n",
      "0.038038346438302666\n"
     ]
    }
   ],
   "source": [
    "print(np.array(logreg_acc_list).std())\n",
    "print(np.array(logreg_f1_list).std())\n",
    "print(np.array(nn_acc_list).std())\n",
    "print(np.array(nn_f1_list).std())"
   ]
  },
  {
   "cell_type": "code",
   "execution_count": null,
   "metadata": {},
   "outputs": [],
   "source": []
  }
 ],
 "metadata": {
  "kernelspec": {
   "display_name": "modeling_and_simulation",
   "language": "python",
   "name": "python3"
  },
  "language_info": {
   "codemirror_mode": {
    "name": "ipython",
    "version": 3
   },
   "file_extension": ".py",
   "mimetype": "text/x-python",
   "name": "python",
   "nbconvert_exporter": "python",
   "pygments_lexer": "ipython3",
   "version": "3.9.18"
  }
 },
 "nbformat": 4,
 "nbformat_minor": 2
}

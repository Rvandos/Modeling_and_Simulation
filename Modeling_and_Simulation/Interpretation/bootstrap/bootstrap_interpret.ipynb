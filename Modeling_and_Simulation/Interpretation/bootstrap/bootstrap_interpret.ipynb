{
 "cells": [
  {
   "cell_type": "code",
   "execution_count": 7,
   "metadata": {},
   "outputs": [],
   "source": [
    "import pickle\n",
    "import os"
   ]
  },
  {
   "cell_type": "markdown",
   "metadata": {},
   "source": [
    "### Load in the simulation results"
   ]
  },
  {
   "cell_type": "code",
   "execution_count": 8,
   "metadata": {},
   "outputs": [],
   "source": [
    "results_loc = os.path.abspath((os.path.join(os.getcwd(), '..', '..', 'Results', 'bootstrap')))\n",
    "with open(results_loc + '/logistic_regression_accuracy.pkl', 'rb') as f:\n",
    "    logreg_acc_list = pickle.load(f)\n",
    "with open(results_loc + '/logistic_regression_f1.pkl', 'rb') as f:\n",
    "    logreg_f1_list = pickle.load(f)\n",
    "with open(results_loc + '/neural_network_accuracy.pkl', 'rb') as f:\n",
    "    nn_acc_list = pickle.load(f)\n",
    "with open(results_loc + '/neural_network_f1.pkl', 'rb') as f:\n",
    "    nn_f1_list = pickle.load(f)"
   ]
  },
  {
   "cell_type": "code",
   "execution_count": 9,
   "metadata": {},
   "outputs": [
    {
     "name": "stdout",
     "output_type": "stream",
     "text": [
      "[0.9033333333333333, 0.8722222222222222, 0.9077777777777778, 0.8877777777777778, 0.8655555555555555]\n",
      "[0.5876777251184834, 0.484304932735426, 0.5699481865284974, 0.5258215962441315, 0.5567765567765568]\n",
      "[0.9577777777777777, 0.9511111111111111, 0.9488888888888889, 0.9444444444444444, 0.9311111111111111]\n",
      "[0.848, 0.8493150684931506, 0.8083333333333333, 0.8046875, 0.7905405405405406]\n"
     ]
    }
   ],
   "source": [
    "print(logreg_acc_list)\n",
    "print(logreg_f1_list)\n",
    "print(nn_acc_list)\n",
    "print(nn_f1_list)"
   ]
  },
  {
   "cell_type": "code",
   "execution_count": null,
   "metadata": {},
   "outputs": [],
   "source": []
  }
 ],
 "metadata": {
  "kernelspec": {
   "display_name": "modeling_and_simulation",
   "language": "python",
   "name": "python3"
  },
  "language_info": {
   "codemirror_mode": {
    "name": "ipython",
    "version": 3
   },
   "file_extension": ".py",
   "mimetype": "text/x-python",
   "name": "python",
   "nbconvert_exporter": "python",
   "pygments_lexer": "ipython3",
   "version": "3.9.18"
  }
 },
 "nbformat": 4,
 "nbformat_minor": 2
}

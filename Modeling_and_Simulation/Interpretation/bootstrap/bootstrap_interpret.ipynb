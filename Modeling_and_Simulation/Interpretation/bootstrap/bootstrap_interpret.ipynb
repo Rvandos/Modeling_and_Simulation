{
 "cells": [
  {
   "cell_type": "code",
   "execution_count": 1,
   "metadata": {},
   "outputs": [],
   "source": [
    "import pickle\n",
    "import os"
   ]
  },
  {
   "cell_type": "markdown",
   "metadata": {},
   "source": [
    "### Load in the simulation results"
   ]
  },
  {
   "cell_type": "code",
   "execution_count": 2,
   "metadata": {},
   "outputs": [],
   "source": [
    "results_loc = os.path.abspath((os.path.join(os.getcwd(), '..', '..', 'Results', 'bootstrap')))\n",
    "with open(results_loc + '/logistic_regression_accuracy.pkl', 'rb') as f:\n",
    "    logreg_acc_list = pickle.load(f)\n",
    "with open(results_loc + '/logistic_regression_f1.pkl', 'rb') as f:\n",
    "    logreg_f1_list = pickle.load(f)\n",
    "with open(results_loc + '/neural_network_accuracy.pkl', 'rb') as f:\n",
    "    nn_acc_list = pickle.load(f)\n",
    "with open(results_loc + '/neural_network_f1.pkl', 'rb') as f:\n",
    "    nn_f1_list = pickle.load(f)"
   ]
  },
  {
   "cell_type": "code",
   "execution_count": 3,
   "metadata": {},
   "outputs": [
    {
     "name": "stdout",
     "output_type": "stream",
     "text": [
      "[0.9033333333333333, 0.8722222222222222, 0.9077777777777778, 0.8877777777777778, 0.8655555555555555, 0.9088888888888889, 0.8788888888888889, 0.89, 0.8988888888888888, 0.8655555555555555, 0.8933333333333333, 0.89, 0.9, 0.8888888888888888, 0.8888888888888888, 0.9, 0.8911111111111111, 0.8955555555555555, 0.8788888888888889, 0.8844444444444445]\n",
      "[0.5876777251184834, 0.484304932735426, 0.5699481865284974, 0.5258215962441315, 0.5567765567765568, 0.59, 0.5281385281385281, 0.6024096385542169, 0.6539923954372624, 0.5140562248995983, 0.5384615384615384, 0.547945205479452, 0.5714285714285714, 0.5454545454545454, 0.6, 0.625, 0.5420560747663551, 0.5877192982456141, 0.5281385281385281, 0.5666666666666667]\n",
      "[0.9577777777777777, 0.9511111111111111, 0.9488888888888889, 0.9444444444444444, 0.9311111111111111, 0.9655555555555555, 0.9188888888888889, 0.9455555555555556, 0.9555555555555556, 0.9344444444444444, 0.9333333333333333, 0.9622222222222222, 0.9633333333333334, 0.8944444444444445, 0.9544444444444444, 0.9588888888888889, 0.9544444444444444, 0.9566666666666667, 0.9388888888888889, 0.9511111111111111]\n",
      "[0.848, 0.8493150684931506, 0.8083333333333333, 0.8046875, 0.7905405405405406, 0.8774703557312253, 0.7044534412955465, 0.8372093023255814, 0.8717948717948718, 0.8039867109634552, 0.76, 0.8776978417266187, 0.8850174216027874, 0.5701357466063348, 0.8690095846645367, 0.8762541806020067, 0.8452830188679246, 0.8539325842696629, 0.7985347985347986, 0.8543046357615894]\n"
     ]
    }
   ],
   "source": [
    "print(logreg_acc_list)\n",
    "print(logreg_f1_list)\n",
    "print(nn_acc_list)\n",
    "print(nn_f1_list)"
   ]
  },
  {
   "cell_type": "code",
   "execution_count": null,
   "metadata": {},
   "outputs": [],
   "source": []
  }
 ],
 "metadata": {
  "kernelspec": {
   "display_name": "modeling_and_simulation",
   "language": "python",
   "name": "python3"
  },
  "language_info": {
   "codemirror_mode": {
    "name": "ipython",
    "version": 3
   },
   "file_extension": ".py",
   "mimetype": "text/x-python",
   "name": "python",
   "nbconvert_exporter": "python",
   "pygments_lexer": "ipython3",
   "version": "3.9.18"
  }
 },
 "nbformat": 4,
 "nbformat_minor": 2
}

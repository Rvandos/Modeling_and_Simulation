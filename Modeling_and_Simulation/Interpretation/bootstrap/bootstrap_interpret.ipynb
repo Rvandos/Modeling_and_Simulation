{
 "cells": [
  {
   "cell_type": "code",
   "execution_count": 6,
   "metadata": {},
   "outputs": [],
   "source": [
    "import pickle\n",
    "import os\n",
    "import numpy as np"
   ]
  },
  {
   "cell_type": "markdown",
   "metadata": {},
   "source": [
    "### Load in the simulation results"
   ]
  },
  {
   "cell_type": "code",
   "execution_count": 7,
   "metadata": {},
   "outputs": [],
   "source": [
    "results_loc = os.path.abspath((os.path.join(os.getcwd(), '..', '..', 'Results', 'bootstrap')))\n",
    "with open(results_loc + '/logistic_regression_accuracy.pkl', 'rb') as f:\n",
    "    logreg_acc_list = np.array(pickle.load(f))\n",
    "with open(results_loc + '/logistic_regression_f1.pkl', 'rb') as f:\n",
    "    logreg_f1_list = np.array(pickle.load(f))\n",
    "with open(results_loc + '/neural_network_accuracy.pkl', 'rb') as f:\n",
    "    nn_acc_list = np.array(pickle.load(f))\n",
    "with open(results_loc + '/neural_network_f1.pkl', 'rb') as f:\n",
    "    nn_f1_list = np.array(pickle.load(f))"
   ]
  },
  {
   "cell_type": "code",
   "execution_count": 24,
   "metadata": {},
   "outputs": [
    {
     "name": "stdout",
     "output_type": "stream",
     "text": [
      "The mean accuracy of the logistic regression: 0.8944355555555555.\n",
      "The mean f1-score of the logistic regression: 0.5717595584997391.\n",
      "The mean accuracy of the neural network: 0.9531411111111111.\n",
      "The mean f1-score of the neural network: 0.8442213634154173.\n"
     ]
    }
   ],
   "source": [
    "print(f'The mean accuracy of the logistic regression: {logreg_acc_list.mean()}.')\n",
    "print(f'The mean f1-score of the logistic regression: {logreg_f1_list.mean()}.')\n",
    "print(f'The mean accuracy of the neural network: {nn_acc_list.mean()}.')\n",
    "print(f'The mean f1-score of the neural network: {nn_f1_list.mean()}.')"
   ]
  },
  {
   "cell_type": "code",
   "execution_count": 23,
   "metadata": {},
   "outputs": [
    {
     "name": "stdout",
     "output_type": "stream",
     "text": [
      "The standard error of the accuracy for the logistic regression: 0.00034573581579146195.\n",
      "The standard error of the f1-score for the logistic regression: 0.0014204677116960932.\n",
      "The standard error of the accuracy for the neural network: 0.0003201524926008206.\n",
      "The standard error of the f1-score for the neural network: 0.038038346438302666.\n"
     ]
    }
   ],
   "source": [
    "print(f'The standard error of the accuracy for the logistic regression: {logreg_acc_list.std()/np.sqrt(len(logreg_acc_list))}.')\n",
    "print(f'The standard error of the f1-score for the logistic regression: {logreg_f1_list.std()/np.sqrt(len(logreg_f1_list))}.')\n",
    "print(f'The standard error of the accuracy for the neural network: {nn_acc_list.std()/np.sqrt(len(nn_acc_list))}.')\n",
    "print(f'The standard error of the f1-score for the neural network: {nn_f1_list.std()}.')"
   ]
  },
  {
   "cell_type": "code",
   "execution_count": 14,
   "metadata": {},
   "outputs": [],
   "source": [
    "def n_sim_mean(d: float, performance_list: np.ndarray):\n",
    "    \"\"\"This function computes the desired number of simulations for the mean performance measures based on a \n",
    "    prespecified Monte Carlo Standard Error d for the mean.\n",
    "\n",
    "    ARGS:\n",
    "        d: The desired Monte Carlo Standard Error.\n",
    "        performance_list: a numpy array containing the simulation results.\n",
    "\n",
    "    OUTPUT:\n",
    "        The minimum number of simulations required to satisfy the prespecified MCSE.\n",
    "    \"\"\" \n",
    "    numerator = (performance_list.std())**2\n",
    "    denominator = d**2\n",
    "    return (numerator/denominator)"
   ]
  },
  {
   "cell_type": "code",
   "execution_count": 15,
   "metadata": {},
   "outputs": [],
   "source": [
    "def n_sim_se(d: float, performance_list: np.ndarray):\n",
    "    \"\"\"This function computes the desired number of simulations based on a prespecified Monte Carlo Standard Error \n",
    "    d for the emperical standard error of the simulation results.\n",
    "\n",
    "    ARGS:\n",
    "        d: The desired Monte Carlo Standard Error.\n",
    "        performance_list: a numpy array containing the simulation results.\n",
    "\n",
    "    OUTPUT:\n",
    "        The minimum number of simulations required to satisfy the prespecified MCSE.\n",
    "    \"\"\"\n",
    "    empse = performance_list.std()/np.sqrt(len(performance_list))\n",
    "    n_sim = ((empse**2)/(d**2) + 2)/2\n",
    "    return n_sim\n"
   ]
  },
  {
   "cell_type": "code",
   "execution_count": 18,
   "metadata": {},
   "outputs": [
    {
     "name": "stdout",
     "output_type": "stream",
     "text": [
      "478.13301728395084\n"
     ]
    }
   ],
   "source": [
    "d = 0.0005\n",
    "print(n_sim_mean(d, logreg_acc_list))"
   ]
  },
  {
   "cell_type": "code",
   "execution_count": null,
   "metadata": {},
   "outputs": [],
   "source": []
  }
 ],
 "metadata": {
  "kernelspec": {
   "display_name": "modeling_and_simulation",
   "language": "python",
   "name": "python3"
  },
  "language_info": {
   "codemirror_mode": {
    "name": "ipython",
    "version": 3
   },
   "file_extension": ".py",
   "mimetype": "text/x-python",
   "name": "python",
   "nbconvert_exporter": "python",
   "pygments_lexer": "ipython3",
   "version": "3.9.18"
  }
 },
 "nbformat": 4,
 "nbformat_minor": 2
}

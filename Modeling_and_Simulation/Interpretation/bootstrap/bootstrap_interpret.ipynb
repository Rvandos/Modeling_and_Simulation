{
 "cells": [
  {
   "cell_type": "code",
   "execution_count": 13,
   "metadata": {},
   "outputs": [],
   "source": [
    "import pickle\n",
    "import os"
   ]
  },
  {
   "cell_type": "markdown",
   "metadata": {},
   "source": [
    "### Load in the simulation results"
   ]
  },
  {
   "cell_type": "code",
   "execution_count": 14,
   "metadata": {},
   "outputs": [],
   "source": [
    "results_loc = os.path.abspath((os.path.join(os.getcwd(), '..', '..', 'Results', 'bootstrap')))\n",
    "with open(results_loc + '/logistic_regression_accuracy.pkl', 'rb') as f:\n",
    "    logreg_acc_list = pickle.load(f)\n",
    "with open(results_loc + '/logistic_regression_f1.pkl', 'rb') as f:\n",
    "    logreg_f1_list = pickle.load(f)\n",
    "with open(results_loc + '/neural_network_accuracy.pkl', 'rb') as f:\n",
    "    nn_acc_list = pickle.load(f)\n",
    "with open(results_loc + '/neural_network_f1.pkl', 'rb') as f:\n",
    "    nn_f1_list = pickle.load(f)"
   ]
  },
  {
   "cell_type": "code",
   "execution_count": 15,
   "metadata": {},
   "outputs": [
    {
     "name": "stdout",
     "output_type": "stream",
     "text": [
      "[0.8577777777777778]\n",
      "[0.4666666666666667]\n",
      "[]\n",
      "[]\n"
     ]
    }
   ],
   "source": [
    "print(logreg_acc_list)\n",
    "print(logreg_f1_list)\n",
    "print(nn_acc_list)\n",
    "print(nn_f1_list)"
   ]
  },
  {
   "cell_type": "code",
   "execution_count": null,
   "metadata": {},
   "outputs": [],
   "source": []
  }
 ],
 "metadata": {
  "kernelspec": {
   "display_name": "modeling_and_simulation",
   "language": "python",
   "name": "python3"
  },
  "language_info": {
   "codemirror_mode": {
    "name": "ipython",
    "version": 3
   },
   "file_extension": ".py",
   "mimetype": "text/x-python",
   "name": "python",
   "nbconvert_exporter": "python",
   "pygments_lexer": "ipython3",
   "version": "3.9.18"
  }
 },
 "nbformat": 4,
 "nbformat_minor": 2
}
